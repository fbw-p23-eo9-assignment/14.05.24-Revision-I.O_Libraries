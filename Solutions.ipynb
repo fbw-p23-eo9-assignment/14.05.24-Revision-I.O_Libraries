{
 "cells": [
  {
   "cell_type": "markdown",
   "metadata": {},
   "source": [
    "# EASY"
   ]
  },
  {
   "cell_type": "code",
   "execution_count": 10,
   "metadata": {},
   "outputs": [],
   "source": [
    "#task1 \n",
    "\n",
    "with open('easy-task1.txt', 'r') as infile:\n",
    "    content = infile.read()\n",
    "\n",
    "# Converting the content to uppercase\n",
    "content_upper = content.upper()\n",
    "\n",
    "# Writing the uppercase content to the output file\n",
    "with open('output.txt', 'w') as outfile:\n",
    "    outfile.write(content_upper)"
   ]
  },
  {
   "cell_type": "code",
   "execution_count": 11,
   "metadata": {},
   "outputs": [],
   "source": [
    "#task2\n",
    "import datetime\n",
    "\n",
    "# Getting the current date and time\n",
    "current_time = datetime.datetime.now().strftime(\"%Y-%m-%d %H:%M:%S\")\n",
    "\n",
    "# Appending the current time to the log file\n",
    "with open('log.txt', 'a') as logfile:\n",
    "    logfile.write(current_time + '\\n')"
   ]
  },
  {
   "cell_type": "code",
   "execution_count": 17,
   "metadata": {},
   "outputs": [],
   "source": [
    "# task3\n",
    "import os\n",
    "home= os.path.expanduser('~')\n",
    "\n",
    "# Listing files and directories in the current directory\n",
    "entries = os.listdir(home)\n",
    "\n",
    "# Writing the list to a file\n",
    "with open('directory_list.txt', 'w') as file:\n",
    "    for entry in entries:\n",
    "        file.write(entry + '\\n')\n",
    "\n",
    "current_entries = os.listdir('.')\n",
    "\n",
    "# Writing the list to a file\n",
    "with open('current_directory_list.txt', 'w') as file:\n",
    "    for entry in current_entries:\n",
    "        file.write(entry + '\\n')"
   ]
  },
  {
   "cell_type": "code",
   "execution_count": null,
   "metadata": {},
   "outputs": [],
   "source": [
    "#task 4\n",
    "\n",
    "import os\n",
    "\n",
    "\n",
    "# Reading content from the first file\n",
    "with open('easy-task1.txt', 'r') as file1:\n",
    "    content1 = file1.read()\n",
    "\n",
    "# Reading content from the second file\n",
    "with open('easy-task5.txt', 'r') as file2:\n",
    "    content2 = file2.read()\n",
    "\n",
    "# Merging the contents\n",
    "merged_content = content1 + '\\n' + content2\n",
    "\n",
    "# Writing the merged content to a new file\n",
    "with open('merged.txt', 'w') as merged_file:\n",
    "    merged_file.write(merged_content)\n",
    "\n",
    "# Getting the size of the file\n",
    "file_size = os.path.getsize('merged.txt')\n",
    "\n",
    "print(f'The file size is {file_size} bytes.')"
   ]
  },
  {
   "cell_type": "code",
   "execution_count": 9,
   "metadata": {},
   "outputs": [],
   "source": [
    "# task 5\n",
    "import os\n",
    "\n",
    "# Renaming the file\n",
    "os.rename('easy-task5.txt', 'new_easy-task5.txt')\n",
    "\n",
    "user_input = input(\"Enter a string: \")\n",
    "\n",
    "# Writing user input to a file\n",
    "with open('new_easy-task5.txt', 'a') as file:\n",
    "    file.write(\"\\n\"+user_input)"
   ]
  },
  {
   "cell_type": "code",
   "execution_count": null,
   "metadata": {},
   "outputs": [],
   "source": [
    "# task 6\n",
    "# Reading the content of the text file\n",
    "with open('easy-task5.txt', 'r', encoding='utf-8') as file:\n",
    "    content = file.read()\n",
    "\n",
    "# Converting the content to bytes\n",
    "content_bytes = content.encode('utf-8')\n",
    "\n",
    "# Converting the bytes back to a string\n",
    "content_str = content_bytes.decode('utf-8')\n",
    "\n",
    "# Writing both representations to the output file\n",
    "with open('output.txt', 'w', encoding='utf-8') as file:\n",
    "    file.write(\"Byte Representation:\\n\")\n",
    "    file.write(str(content_bytes) + '\\n\\n')\n",
    "    file.write(\"Reconverted String:\\n\")\n",
    "    file.write(content_str)\n"
   ]
  },
  {
   "cell_type": "code",
   "execution_count": null,
   "metadata": {},
   "outputs": [],
   "source": [
    "# task 7\n",
    "import argparse\n",
    "\n",
    "def write_to_file(filename, content):\n",
    "    with open(filename, 'w') as file:\n",
    "        file.write(content)\n",
    "    print(f\"Written content to {filename}\")\n",
    "\n",
    "if __name__ == '__main__':\n",
    "    parser = argparse.ArgumentParser(description=\"Write content to a file\")\n",
    "    parser.add_argument('filename', type=str, help='The name of the file to write to')\n",
    "    parser.add_argument('content', type=str, help='The content to write to the file')\n",
    "    args = parser.parse_args()\n",
    "\n",
    "    write_to_file(args.filename, args.content)\n"
   ]
  },
  {
   "cell_type": "code",
   "execution_count": null,
   "metadata": {},
   "outputs": [],
   "source": [
    "# Task8\n",
    "# test.py\n",
    "from temperature_conversion.celsius_to_fahrenheit import celsius_to_fahrenheit\n",
    "from temperature_conversion.fahrenheit_to_celsius import fahrenheit_to_celsius\n",
    "from temperature_conversion.celsius_to_kelvin import celsius_to_kelvin\n",
    "from temperature_conversion.kelvin_to_celsius import kelvin_to_celsius\n",
    "\n",
    "temp_c = 25\n",
    "temp_f = 77\n",
    "temp_k = 298\n",
    "\n",
    "print(f\"{temp_c}°C to Fahrenheit: {celsius_to_fahrenheit(temp_c)}°F\")\n",
    "print(f\"{temp_f}°F to Celsius: {fahrenheit_to_celsius(temp_f)}°C\")\n",
    "print(f\"{temp_c}°C to Kelvin: {celsius_to_kelvin(temp_c)}K\")\n",
    "print(f\"{temp_k}K to Celsius: {kelvin_to_celsius(temp_k)}°C\")\n",
    "Your results could look like this:\n",
    "\n",
    "mathematica\n",
    "Copy code\n",
    "25°C to Fahrenheit: 77.0°F\n",
    "77°F to Celsius: 25.0°C\n",
    "25°C to Kelvin: 298.15K\n",
    "298K to Celsius: 24.85°C\n",
    "Solution:\n",
    "\n",
    "# Create the package structure:\n",
    "\n",
    "# temperature_conversion/\n",
    "#     __init__.py\n",
    "#     celsius_to_fahrenheit.py\n",
    "#     fahrenheit_to_celsius.py\n",
    "#     celsius_to_kelvin.py\n",
    "#     kelvin_to_celsius.py\n",
    "\n",
    "# temperature_conversion/celsius_to_fahrenheit.py:\n",
    "\n",
    "\n",
    "def celsius_to_fahrenheit(celsius):\n",
    "    return celsius * 9/5 + 32\n",
    "temperature_conversion/fahrenheit_to_celsius.py:\n",
    "\n",
    "python\n",
    "Copy code\n",
    "def fahrenheit_to_celsius(fahrenheit):\n",
    "    return (fahrenheit - 32) * 5/9\n",
    "temperature_conversion/celsius_to_kelvin.py:\n",
    "\n",
    "python\n",
    "Copy code\n",
    "def celsius_to_kelvin(celsius):\n",
    "    return celsius + 273.15\n",
    "temperature_conversion/kelvin_to_celsius.py:\n",
    "\n",
    "python\n",
    "Copy code\n",
    "def kelvin_to_celsius(kelvin):\n",
    "    return kelvin - 273.15\n",
    "Create the main script:\n",
    "main.py:\n",
    "\n",
    "python\n",
    "Copy code\n",
    "from temperature_conversion.celsius_to_fahrenheit import celsius_to_fahrenheit\n",
    "from temperature_conversion.fahrenheit_to_celsius import fahrenheit_to_celsius\n",
    "from temperature_conversion.celsius_to_kelvin import celsius_to_kelvin\n",
    "from temperature_conversion.kelvin_to_celsius import kelvin_to_celsius\n",
    "\n",
    "temp_c = 25\n",
    "temp_f = 77\n",
    "temp_k = 298\n",
    "\n",
    "print(f\"{temp_c}°C to Fahrenheit: {celsius_to_fahrenheit(temp_c)}°F\")\n",
    "print(f\"{temp_f}°F to Celsius: {fahrenheit_to_celsius(temp_f)}°C\")\n",
    "print(f\"{temp_c}°C to Kelvin: {celsius_to_kelvin(temp_c)}K\")\n",
    "print(f\"{temp_k}K to Celsius: {kelvin_to_celsius(temp_k)}°C\")\n",
    "Test the package by running main.py:\n",
    "sh\n",
    "Copy code\n",
    "python main.py\n",
    "Expected Output:\n",
    "\n",
    "mathematica\n",
    "Copy code\n",
    "25°C to Fahrenheit: 77.0°F\n",
    "77°F to Celsius: 25.0°C\n",
    "25°C to Kelvin: 298.15K\n",
    "298K to Celsius: 24.85°C"
   ]
  },
  {
   "cell_type": "code",
   "execution_count": null,
   "metadata": {},
   "outputs": [],
   "source": [
    "# task 9 import sys\n",
    "\n",
    "def calculate(num1, num2, operator):\n",
    "    if operator == '+':\n",
    "        return num1 + num2\n",
    "    elif operator == '-':\n",
    "        return num1 - num2\n",
    "    elif operator == '*':\n",
    "        return num1 * num2\n",
    "    elif operator == '/':\n",
    "        return num1 / num2\n",
    "    else:\n",
    "        raise ValueError(\"Invalid operator\")\n",
    "\n",
    "if __name__ == '__main__':\n",
    "    if len(sys.argv) != 4:\n",
    "        print(\"Usage: script.py <num1> <operator> <num2>\")\n",
    "    else:\n",
    "        num1 = float(sys.argv[1])\n",
    "        operator = sys.argv[2]\n",
    "        num2 = float(sys.argv[3])\n",
    "        result = calculate(num1, num2, operator)\n",
    "        print(f\"Result: {result}\")\n"
   ]
  },
  {
   "cell_type": "markdown",
   "metadata": {},
   "source": [
    "# INTERMEDIATE"
   ]
  },
  {
   "cell_type": "code",
   "execution_count": null,
   "metadata": {},
   "outputs": [],
   "source": [
    "# task1 : \n",
    "import os\n",
    "\n",
    "# Searching for .txt files in the current directory\n",
    "txt_files = [f for f in os.listdir('.') if f.endswith('.txt')]\n",
    "\n",
    "# Writing the list of .txt files to a file\n",
    "with open('txt_files.txt', 'w') as file:\n",
    "    for txt_file in txt_files:\n",
    "        file.write(txt_file + '\\n')\n"
   ]
  },
  {
   "cell_type": "code",
   "execution_count": 18,
   "metadata": {},
   "outputs": [],
   "source": [
    "# task 2\n",
    "import os\n",
    "import time\n",
    "\n",
    "# Creating a directory\n",
    "os.makedirs('test_directory')\n",
    "\n",
    "# Creating a file inside the directory\n",
    "with open('test_directory/sample.txt', 'w') as file:\n",
    "    file.write('This is a sample file.')\n",
    "\n",
    "time.sleep(10)\n",
    "# Removing the file and directory\n",
    "os.remove('test_directory/sample.txt')\n",
    "os.rmdir('test_directory')\n"
   ]
  },
  {
   "cell_type": "code",
   "execution_count": 21,
   "metadata": {},
   "outputs": [
    {
     "name": "stdout",
     "output_type": "stream",
     "text": [
      "The file contains 5 words.\n"
     ]
    }
   ],
   "source": [
    "# task3\n",
    "with open('easy-task5.txt', 'r') as file:\n",
    "    content = file.read()\n",
    "\n",
    "# Counting the number of words\n",
    "word_count = len(content.split())\n",
    "\n",
    "print(f'The file contains {word_count} words.')\n",
    "\n",
    "with open('easy-task5-copy.txt', 'w') as copy_file:\n",
    "    copy_file.write(content)\n",
    "\n",
    "os.chmod('easy-task5-copy.txt', 0o444)"
   ]
  },
  {
   "cell_type": "code",
   "execution_count": 22,
   "metadata": {},
   "outputs": [
    {
     "name": "stdout",
     "output_type": "stream",
     "text": [
      "The last modification time of the file is: Tue May 14 00:23:47 2024\n"
     ]
    }
   ],
   "source": [
    "# Pypi\n",
    "import os\n",
    "import time\n",
    "\n",
    "# Getting the last modification time\n",
    "modification_time = os.path.getmtime('easy-task5.txt')\n",
    "\n",
    "# Converting the timestamp to a readable format\n",
    "modification_time_readable = time.ctime(modification_time)\n",
    "\n",
    "print(f'The last modification time of the file is: {modification_time_readable}')"
   ]
  },
  {
   "cell_type": "code",
   "execution_count": 2,
   "metadata": {},
   "outputs": [
    {
     "name": "stdout",
     "output_type": "stream",
     "text": [
      "The total size of all files in the current directory is 21490 bytes.\n"
     ]
    }
   ],
   "source": [
    "# Pypi\n",
    "import os\n",
    "\n",
    "# Calculating the total size of all files in the current directory\n",
    "def total_directory_size():\n",
    "    total_size = sum(os.path.getsize(f) for f in os.listdir('.') if os.path.isfile(f))\n",
    "    return total_size\n",
    "print(f'The total size of all files in the current directory is {total_directory_size()} bytes.')\n"
   ]
  },
  {
   "cell_type": "code",
   "execution_count": 29,
   "metadata": {},
   "outputs": [
    {
     "name": "stdout",
     "output_type": "stream",
     "text": [
      "Readable: True\n",
      "Writable: False\n",
      "Seekable: True\n"
     ]
    }
   ],
   "source": [
    "#task 4\n",
    "import io\n",
    "\n",
    "# Opening the input file using io module\n",
    "with io.open('easy-task5.txt', 'r', encoding='utf-8') as infile:\n",
    "    # Checking stream properties\n",
    "    print(f'Readable: {infile.readable()}')\n",
    "    print(f'Writable: {infile.writable()}')\n",
    "    print(f'Seekable: {infile.seekable()}')\n",
    "\n",
    "    lines = []\n",
    "    # Reading the file line by line\n",
    "    line = infile.readline()\n",
    "    while line:\n",
    "        lines.append(line)\n",
    "        line = infile.readline()\n",
    "\n",
    "with io.open('output.txt', 'w', encoding='utf-8') as outfile:\n",
    "    for line in reversed(lines):\n",
    "        outfile.write(line)"
   ]
  },
  {
   "cell_type": "code",
   "execution_count": 27,
   "metadata": {},
   "outputs": [],
   "source": [
    "# task 5\n",
    "import os\n",
    "from pathlib import Path\n",
    "\n",
    "# Search and replace strings\n",
    "search_string = \"the\"\n",
    "replace_string = \"DCI\"\n",
    "\n",
    "# Directory to search\n",
    "directory = Path('.')\n",
    "\n",
    "# Logging changes\n",
    "with open('changedlog.txt', 'w', encoding='utf-8') as log_file:\n",
    "    # Walking through the directory and its subdirectories\n",
    "    for txt_file in directory.rglob('*.txt'):\n",
    "        with txt_file.open('r', encoding='utf-8') as file:\n",
    "            content = file.read()\n",
    "        \n",
    "        if search_string in content:\n",
    "            new_content = content.replace(search_string, replace_string)\n",
    "            with txt_file.open('w', encoding='utf-8') as file:\n",
    "                file.write(new_content)\n",
    "            log_file.write(f\"Replaced in {txt_file}: '{search_string}' with '{replace_string}'\\n\")\n"
   ]
  },
  {
   "cell_type": "code",
   "execution_count": null,
   "metadata": {},
   "outputs": [],
   "source": [
    "# Task 7\n",
    "import sys\n",
    "\n",
    "def count_word_in_file(filename, word):\n",
    "    try:\n",
    "        with open(filename, 'r') as file:\n",
    "            content = file.read()\n",
    "            word_count = content.count(word)\n",
    "            print(f\"The word '{word}' appears {word_count} times in the file '{filename}'.\")\n",
    "    except FileNotFoundError:\n",
    "        print(f\"The file '{filename}' does not exist.\")\n",
    "\n",
    "if __name__ == '__main__':\n",
    "    if len(sys.argv) != 3:\n",
    "        print(\"Usage: python script.py <filename> <word>\")\n",
    "    else:\n",
    "        filename = sys.argv[1]\n",
    "        word = sys.argv[2]\n",
    "        count_word_in_file(filename, word)\n"
   ]
  }
 ],
 "metadata": {
  "kernelspec": {
   "display_name": ".venv",
   "language": "python",
   "name": "python3"
  },
  "language_info": {
   "codemirror_mode": {
    "name": "ipython",
    "version": 3
   },
   "file_extension": ".py",
   "mimetype": "text/x-python",
   "name": "python",
   "nbconvert_exporter": "python",
   "pygments_lexer": "ipython3",
   "version": "3.12.0"
  }
 },
 "nbformat": 4,
 "nbformat_minor": 2
}
